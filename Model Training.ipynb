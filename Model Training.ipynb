{
 "cells": [
  {
   "cell_type": "code",
   "execution_count": 1,
   "id": "85d579d6-1e09-468b-a6b1-825ba0122347",
   "metadata": {},
   "outputs": [],
   "source": [
    "import sqlite3\n",
    "import pandas as pd\n",
    "import yaml\n",
    "import seaborn as sb\n",
    "from sklearn.preprocessing import StandardScaler, OneHotEncoder"
   ]
  },
  {
   "cell_type": "markdown",
   "id": "c924c96d-f4e6-4614-9c1d-d3009c2a8e66",
   "metadata": {},
   "source": [
    "#### connect sqlite database"
   ]
  },
  {
   "cell_type": "code",
   "execution_count": 2,
   "id": "8b998871-6dec-491c-abaa-a932e9b47694",
   "metadata": {},
   "outputs": [],
   "source": [
    "# If fail, please run preprocessing notebook first \n",
    "with open(\"config.yml\", \"r\") as f:\n",
    "    config = yaml.safe_load(f)\n",
    "con = sqlite3.connect(f\"{config['SQLITE_DATABASE_DIR']}/ICU.db\")"
   ]
  },
  {
   "cell_type": "code",
   "execution_count": 3,
   "id": "a0218137-5e3c-4d89-85f2-fe70ca02fdf7",
   "metadata": {},
   "outputs": [
    {
     "data": {
      "text/html": [
       "<div>\n",
       "<style scoped>\n",
       "    .dataframe tbody tr th:only-of-type {\n",
       "        vertical-align: middle;\n",
       "    }\n",
       "\n",
       "    .dataframe tbody tr th {\n",
       "        vertical-align: top;\n",
       "    }\n",
       "\n",
       "    .dataframe thead th {\n",
       "        text-align: right;\n",
       "    }\n",
       "</style>\n",
       "<table border=\"1\" class=\"dataframe\">\n",
       "  <thead>\n",
       "    <tr style=\"text-align: right;\">\n",
       "      <th></th>\n",
       "      <th>ID</th>\n",
       "      <th>Survive</th>\n",
       "      <th>Age</th>\n",
       "      <th>AgeGroup</th>\n",
       "      <th>Sex</th>\n",
       "      <th>Infection</th>\n",
       "      <th>SysBP</th>\n",
       "      <th>Pulse</th>\n",
       "      <th>Emergency</th>\n",
       "    </tr>\n",
       "  </thead>\n",
       "  <tbody>\n",
       "    <tr>\n",
       "      <th>0</th>\n",
       "      <td>4</td>\n",
       "      <td>0</td>\n",
       "      <td>87</td>\n",
       "      <td>3</td>\n",
       "      <td>1</td>\n",
       "      <td>1</td>\n",
       "      <td>80</td>\n",
       "      <td>96</td>\n",
       "      <td>1</td>\n",
       "    </tr>\n",
       "    <tr>\n",
       "      <th>1</th>\n",
       "      <td>8</td>\n",
       "      <td>1</td>\n",
       "      <td>27</td>\n",
       "      <td>1</td>\n",
       "      <td>1</td>\n",
       "      <td>1</td>\n",
       "      <td>142</td>\n",
       "      <td>88</td>\n",
       "      <td>1</td>\n",
       "    </tr>\n",
       "    <tr>\n",
       "      <th>2</th>\n",
       "      <td>12</td>\n",
       "      <td>1</td>\n",
       "      <td>59</td>\n",
       "      <td>2</td>\n",
       "      <td>0</td>\n",
       "      <td>0</td>\n",
       "      <td>112</td>\n",
       "      <td>80</td>\n",
       "      <td>1</td>\n",
       "    </tr>\n",
       "    <tr>\n",
       "      <th>3</th>\n",
       "      <td>14</td>\n",
       "      <td>1</td>\n",
       "      <td>77</td>\n",
       "      <td>3</td>\n",
       "      <td>0</td>\n",
       "      <td>0</td>\n",
       "      <td>100</td>\n",
       "      <td>70</td>\n",
       "      <td>0</td>\n",
       "    </tr>\n",
       "    <tr>\n",
       "      <th>4</th>\n",
       "      <td>27</td>\n",
       "      <td>0</td>\n",
       "      <td>76</td>\n",
       "      <td>3</td>\n",
       "      <td>1</td>\n",
       "      <td>1</td>\n",
       "      <td>128</td>\n",
       "      <td>90</td>\n",
       "      <td>1</td>\n",
       "    </tr>\n",
       "    <tr>\n",
       "      <th>...</th>\n",
       "      <td>...</td>\n",
       "      <td>...</td>\n",
       "      <td>...</td>\n",
       "      <td>...</td>\n",
       "      <td>...</td>\n",
       "      <td>...</td>\n",
       "      <td>...</td>\n",
       "      <td>...</td>\n",
       "      <td>...</td>\n",
       "    </tr>\n",
       "    <tr>\n",
       "      <th>195</th>\n",
       "      <td>921</td>\n",
       "      <td>0</td>\n",
       "      <td>50</td>\n",
       "      <td>2</td>\n",
       "      <td>1</td>\n",
       "      <td>0</td>\n",
       "      <td>256</td>\n",
       "      <td>64</td>\n",
       "      <td>1</td>\n",
       "    </tr>\n",
       "    <tr>\n",
       "      <th>196</th>\n",
       "      <td>923</td>\n",
       "      <td>1</td>\n",
       "      <td>20</td>\n",
       "      <td>1</td>\n",
       "      <td>0</td>\n",
       "      <td>0</td>\n",
       "      <td>104</td>\n",
       "      <td>83</td>\n",
       "      <td>1</td>\n",
       "    </tr>\n",
       "    <tr>\n",
       "      <th>197</th>\n",
       "      <td>924</td>\n",
       "      <td>1</td>\n",
       "      <td>73</td>\n",
       "      <td>3</td>\n",
       "      <td>1</td>\n",
       "      <td>0</td>\n",
       "      <td>162</td>\n",
       "      <td>100</td>\n",
       "      <td>1</td>\n",
       "    </tr>\n",
       "    <tr>\n",
       "      <th>198</th>\n",
       "      <td>925</td>\n",
       "      <td>1</td>\n",
       "      <td>59</td>\n",
       "      <td>2</td>\n",
       "      <td>0</td>\n",
       "      <td>0</td>\n",
       "      <td>100</td>\n",
       "      <td>88</td>\n",
       "      <td>1</td>\n",
       "    </tr>\n",
       "    <tr>\n",
       "      <th>199</th>\n",
       "      <td>929</td>\n",
       "      <td>1</td>\n",
       "      <td>42</td>\n",
       "      <td>1</td>\n",
       "      <td>0</td>\n",
       "      <td>0</td>\n",
       "      <td>122</td>\n",
       "      <td>84</td>\n",
       "      <td>1</td>\n",
       "    </tr>\n",
       "  </tbody>\n",
       "</table>\n",
       "<p>200 rows × 9 columns</p>\n",
       "</div>"
      ],
      "text/plain": [
       "      ID  Survive  Age  AgeGroup  Sex  Infection  SysBP  Pulse  Emergency\n",
       "0      4        0   87         3    1          1     80     96          1\n",
       "1      8        1   27         1    1          1    142     88          1\n",
       "2     12        1   59         2    0          0    112     80          1\n",
       "3     14        1   77         3    0          0    100     70          0\n",
       "4     27        0   76         3    1          1    128     90          1\n",
       "..   ...      ...  ...       ...  ...        ...    ...    ...        ...\n",
       "195  921        0   50         2    1          0    256     64          1\n",
       "196  923        1   20         1    0          0    104     83          1\n",
       "197  924        1   73         3    1          0    162    100          1\n",
       "198  925        1   59         2    0          0    100     88          1\n",
       "199  929        1   42         1    0          0    122     84          1\n",
       "\n",
       "[200 rows x 9 columns]"
      ]
     },
     "execution_count": 3,
     "metadata": {},
     "output_type": "execute_result"
    }
   ],
   "source": [
    "data = pd.read_sql_query('select * from ICU', con)\n",
    "data     "
   ]
  },
  {
   "cell_type": "markdown",
   "id": "a76b255f-8f9b-468c-b193-9448b935f55d",
   "metadata": {
    "tags": []
   },
   "source": [
    "### preprocessing"
   ]
  },
  {
   "cell_type": "code",
   "execution_count": 4,
   "id": "c5330f0a-9792-4eaa-8911-41e973c53006",
   "metadata": {},
   "outputs": [],
   "source": [
    "feature_colname = data.columns[2:].tolist()\n",
    "target_colname = \"Survive\"\n",
    "\n",
    "numerical_cols = [\"Age\", \"SysBP\", \"Pulse\"]\n",
    "categorical_cols = [\"Sex\", \"Infection\", \"Emergency\", \"AgeGroup\"]\n",
    "multiclass_cols = ['AgeGroup']\n",
    "binary_cols = [\"Sex\", \"Infection\", \"Emergency\"]"
   ]
  },
  {
   "cell_type": "code",
   "execution_count": 5,
   "id": "40b186a8-5597-4bc5-8161-d6219224f6ee",
   "metadata": {},
   "outputs": [
    {
     "data": {
      "text/plain": [
       "ID           0\n",
       "Survive      0\n",
       "Age          0\n",
       "AgeGroup     0\n",
       "Sex          0\n",
       "Infection    0\n",
       "SysBP        0\n",
       "Pulse        0\n",
       "Emergency    0\n",
       "dtype: int64"
      ]
     },
     "execution_count": 5,
     "metadata": {},
     "output_type": "execute_result"
    }
   ],
   "source": [
    "# no NAs to handle\n",
    "data.isna().sum()"
   ]
  },
  {
   "cell_type": "code",
   "execution_count": 7,
   "id": "5ec4804e-0a3a-47bf-9c01-b2dadfa9ac05",
   "metadata": {},
   "outputs": [],
   "source": [
    "def normalize(df, cols):\n",
    "    ss = StandardScaler()\n",
    "    ss.fit(df[cols])\n",
    "    output = pd.DataFrame(ss.transform(df[cols]), columns = cols)\n",
    "    return output\n",
    "def set_categoric(df, cols):\n",
    "    for c in cols:\n",
    "        df[c] = df[c].astype(object)\n",
    "    return df[cols]\n",
    "def set_float(df):\n",
    "    for c in df.columns:\n",
    "        df[c] = df[c].astype(float)\n",
    "    return df\n",
    "def onehot_encode(df, cols):\n",
    "    output = pd.DataFrame()\n",
    "    ohe = OneHotEncoder(drop = \"first\", sparse = False)\n",
    "    for c in cols:\n",
    "        ohe.fit(df[[c]])\n",
    "        oh_data = ohe.transform(data[[\"AgeGroup\"]])\n",
    "        new_col_names = [f\"{c}_onehot_{i}\" for i in range(oh_data.shape[1])]\n",
    "        output = pd.concat([output, pd.DataFrame(oh_data, columns = new_col_names)], axis = 1)\n",
    "    return output"
   ]
  },
  {
   "cell_type": "code",
   "execution_count": 8,
   "id": "3c876f83-4961-4abf-8ad2-c1cca7d5627b",
   "metadata": {},
   "outputs": [],
   "source": [
    "normalized_df = normalize(data, cols = numerical_cols)\n",
    "categoric_df = set_categoric(data, cols = categorical_cols)\n",
    "preprocessed_data = pd.concat([normalized_df,categoric_df, data[[target_colname]]], axis = 1)"
   ]
  },
  {
   "cell_type": "code",
   "execution_count": 9,
   "id": "b35e1b28-5c83-404e-ac2f-272694ffd77a",
   "metadata": {},
   "outputs": [
    {
     "data": {
      "text/html": [
       "<div>\n",
       "<style scoped>\n",
       "    .dataframe tbody tr th:only-of-type {\n",
       "        vertical-align: middle;\n",
       "    }\n",
       "\n",
       "    .dataframe tbody tr th {\n",
       "        vertical-align: top;\n",
       "    }\n",
       "\n",
       "    .dataframe thead th {\n",
       "        text-align: right;\n",
       "    }\n",
       "</style>\n",
       "<table border=\"1\" class=\"dataframe\">\n",
       "  <thead>\n",
       "    <tr style=\"text-align: right;\">\n",
       "      <th></th>\n",
       "      <th>Age</th>\n",
       "      <th>SysBP</th>\n",
       "      <th>Pulse</th>\n",
       "      <th>Sex</th>\n",
       "      <th>Infection</th>\n",
       "      <th>Emergency</th>\n",
       "      <th>AgeGroup</th>\n",
       "      <th>Survive</th>\n",
       "    </tr>\n",
       "  </thead>\n",
       "  <tbody>\n",
       "    <tr>\n",
       "      <th>0</th>\n",
       "      <td>1.472422</td>\n",
       "      <td>-1.590527</td>\n",
       "      <td>-0.109295</td>\n",
       "      <td>1</td>\n",
       "      <td>1</td>\n",
       "      <td>1</td>\n",
       "      <td>3</td>\n",
       "      <td>0</td>\n",
       "    </tr>\n",
       "    <tr>\n",
       "      <th>1</th>\n",
       "      <td>-1.526910</td>\n",
       "      <td>0.295714</td>\n",
       "      <td>-0.408221</td>\n",
       "      <td>1</td>\n",
       "      <td>1</td>\n",
       "      <td>1</td>\n",
       "      <td>1</td>\n",
       "      <td>1</td>\n",
       "    </tr>\n",
       "    <tr>\n",
       "      <th>2</th>\n",
       "      <td>0.072734</td>\n",
       "      <td>-0.616983</td>\n",
       "      <td>-0.707147</td>\n",
       "      <td>0</td>\n",
       "      <td>0</td>\n",
       "      <td>1</td>\n",
       "      <td>2</td>\n",
       "      <td>1</td>\n",
       "    </tr>\n",
       "    <tr>\n",
       "      <th>3</th>\n",
       "      <td>0.972534</td>\n",
       "      <td>-0.982062</td>\n",
       "      <td>-1.080805</td>\n",
       "      <td>0</td>\n",
       "      <td>0</td>\n",
       "      <td>0</td>\n",
       "      <td>3</td>\n",
       "      <td>1</td>\n",
       "    </tr>\n",
       "    <tr>\n",
       "      <th>4</th>\n",
       "      <td>0.922545</td>\n",
       "      <td>-0.130211</td>\n",
       "      <td>-0.333489</td>\n",
       "      <td>1</td>\n",
       "      <td>1</td>\n",
       "      <td>1</td>\n",
       "      <td>3</td>\n",
       "      <td>0</td>\n",
       "    </tr>\n",
       "    <tr>\n",
       "      <th>...</th>\n",
       "      <td>...</td>\n",
       "      <td>...</td>\n",
       "      <td>...</td>\n",
       "      <td>...</td>\n",
       "      <td>...</td>\n",
       "      <td>...</td>\n",
       "      <td>...</td>\n",
       "      <td>...</td>\n",
       "    </tr>\n",
       "    <tr>\n",
       "      <th>195</th>\n",
       "      <td>-0.377166</td>\n",
       "      <td>3.763963</td>\n",
       "      <td>-1.305000</td>\n",
       "      <td>1</td>\n",
       "      <td>0</td>\n",
       "      <td>1</td>\n",
       "      <td>2</td>\n",
       "      <td>0</td>\n",
       "    </tr>\n",
       "    <tr>\n",
       "      <th>196</th>\n",
       "      <td>-1.876833</td>\n",
       "      <td>-0.860369</td>\n",
       "      <td>-0.595050</td>\n",
       "      <td>0</td>\n",
       "      <td>0</td>\n",
       "      <td>1</td>\n",
       "      <td>1</td>\n",
       "      <td>1</td>\n",
       "    </tr>\n",
       "    <tr>\n",
       "      <th>197</th>\n",
       "      <td>0.772578</td>\n",
       "      <td>0.904179</td>\n",
       "      <td>0.040168</td>\n",
       "      <td>1</td>\n",
       "      <td>0</td>\n",
       "      <td>1</td>\n",
       "      <td>3</td>\n",
       "      <td>1</td>\n",
       "    </tr>\n",
       "    <tr>\n",
       "      <th>198</th>\n",
       "      <td>0.072734</td>\n",
       "      <td>-0.982062</td>\n",
       "      <td>-0.408221</td>\n",
       "      <td>0</td>\n",
       "      <td>0</td>\n",
       "      <td>1</td>\n",
       "      <td>2</td>\n",
       "      <td>1</td>\n",
       "    </tr>\n",
       "    <tr>\n",
       "      <th>199</th>\n",
       "      <td>-0.777077</td>\n",
       "      <td>-0.312751</td>\n",
       "      <td>-0.557684</td>\n",
       "      <td>0</td>\n",
       "      <td>0</td>\n",
       "      <td>1</td>\n",
       "      <td>1</td>\n",
       "      <td>1</td>\n",
       "    </tr>\n",
       "  </tbody>\n",
       "</table>\n",
       "<p>200 rows × 8 columns</p>\n",
       "</div>"
      ],
      "text/plain": [
       "          Age     SysBP     Pulse Sex Infection Emergency AgeGroup  Survive\n",
       "0    1.472422 -1.590527 -0.109295   1         1         1        3        0\n",
       "1   -1.526910  0.295714 -0.408221   1         1         1        1        1\n",
       "2    0.072734 -0.616983 -0.707147   0         0         1        2        1\n",
       "3    0.972534 -0.982062 -1.080805   0         0         0        3        1\n",
       "4    0.922545 -0.130211 -0.333489   1         1         1        3        0\n",
       "..        ...       ...       ...  ..       ...       ...      ...      ...\n",
       "195 -0.377166  3.763963 -1.305000   1         0         1        2        0\n",
       "196 -1.876833 -0.860369 -0.595050   0         0         1        1        1\n",
       "197  0.772578  0.904179  0.040168   1         0         1        3        1\n",
       "198  0.072734 -0.982062 -0.408221   0         0         1        2        1\n",
       "199 -0.777077 -0.312751 -0.557684   0         0         1        1        1\n",
       "\n",
       "[200 rows x 8 columns]"
      ]
     },
     "execution_count": 9,
     "metadata": {},
     "output_type": "execute_result"
    }
   ],
   "source": [
    "preprocessed_data"
   ]
  },
  {
   "cell_type": "code",
   "execution_count": 10,
   "id": "cfcc02ab-2386-48de-99db-0c0a9a79986a",
   "metadata": {},
   "outputs": [
    {
     "data": {
      "text/plain": [
       "Age          float64\n",
       "SysBP        float64\n",
       "Pulse        float64\n",
       "Sex           object\n",
       "Infection     object\n",
       "Emergency     object\n",
       "AgeGroup      object\n",
       "Survive        int64\n",
       "dtype: object"
      ]
     },
     "execution_count": 10,
     "metadata": {},
     "output_type": "execute_result"
    }
   ],
   "source": [
    "# both decTrees and RanFor models can handle categoric data so we pass categoric data without further processing\n",
    "preprocessed_data.dtypes"
   ]
  },
  {
   "cell_type": "markdown",
   "id": "e0ed16af-576c-47a1-8e28-f0d3b6fee08e",
   "metadata": {},
   "source": [
    "# Random Grid Search CV"
   ]
  },
  {
   "cell_type": "code",
   "execution_count": 29,
   "id": "bdf3a1fe-9771-4aa0-baed-baec25d6d44f",
   "metadata": {},
   "outputs": [],
   "source": [
    "results = {\n",
    "    \"model\":[],\n",
    "    \"score\":[],\n",
    "    \"best_param\":[]\n",
    "}"
   ]
  },
  {
   "cell_type": "code",
   "execution_count": 12,
   "id": "5abb63aa-07ea-4e34-93c1-c3607ccca59c",
   "metadata": {},
   "outputs": [],
   "source": [
    "from sklearn.linear_model import LogisticRegression\n",
    "from sklearn.tree import DecisionTreeClassifier\n",
    "from sklearn.ensemble import RandomForestClassifier\n",
    "from sklearn.model_selection import RandomizedSearchCV\n",
    "from scipy import stats\n",
    "import numpy as np\n",
    "from joblib import dump, load\n",
    "import pickle\n",
    "from sklearn.metrics import fbeta_score, make_scorer"
   ]
  },
  {
   "cell_type": "code",
   "execution_count": 20,
   "id": "790284c2-258d-4b67-846f-f30b1a597d38",
   "metadata": {},
   "outputs": [],
   "source": [
    "X = preprocessed_data[feature_colname]\n",
    "y = preprocessed_data[target_colname].astype(int)"
   ]
  },
  {
   "cell_type": "markdown",
   "id": "3d7effb5-ce03-4fc8-ad11-46aabf74134d",
   "metadata": {},
   "source": [
    "#### metric: fbeta_score\n",
    "- the motivation is to prioritize people who are likely not going to survive and give them more attention\n",
    "- we can achieve that with f1_score beta>1 which leans more towards recall\n",
    "- at the same time we do not want to neglect precision, otherwise we'll be predicting everybody as likely not going to survive\n",
    "- thus, fbeta score is a good choice"
   ]
  },
  {
   "cell_type": "code",
   "execution_count": 14,
   "id": "51528ce2-5ea2-4486-b7bd-886d2ddfc246",
   "metadata": {},
   "outputs": [],
   "source": [
    "ftwo_scorer = make_scorer(fbeta_score, beta=1.5)"
   ]
  },
  {
   "cell_type": "markdown",
   "id": "bca105ec-25d3-4eb3-9cff-4f9420036885",
   "metadata": {},
   "source": [
    "### random forest"
   ]
  },
  {
   "cell_type": "code",
   "execution_count": 30,
   "id": "08a26d9e-266c-4be8-963a-c399df9bacb9",
   "metadata": {},
   "outputs": [],
   "source": [
    "param_grid = {\n",
    "    \"n_estimators\" : range(30,101), \n",
    "    \"max_depth\" : range(2,10), \n",
    "    \"max_features\" : range(2, len(X.columns)), \n",
    "    \"class_weight\" : [None, \"balanced\", \"balanced_subsample\"],\n",
    "    \"ccp_alpha\": np.arange(0,1,0.05)\n",
    "}"
   ]
  },
  {
   "cell_type": "code",
   "execution_count": 31,
   "id": "65e76d43-6f40-4390-81c1-83fe139d6399",
   "metadata": {},
   "outputs": [],
   "source": [
    "model = RandomForestClassifier(\n",
    "    bootstrap = True, \n",
    "    random_state = 0, \n",
    ")"
   ]
  },
  {
   "cell_type": "code",
   "execution_count": 32,
   "id": "4570ff6b-28a5-4f73-a804-6928b8f0f9b7",
   "metadata": {},
   "outputs": [],
   "source": [
    "gs_cv = RandomizedSearchCV(model, \n",
    "                           param_grid, \n",
    "                           n_iter = 200,\n",
    "                           scoring = ftwo_scorer,\n",
    "                           # scoring = [\"accuracy\", \"recall\", \"precision\", \"roc_auc\"],\n",
    "                           n_jobs = -1,\n",
    "                           random_state = 0,\n",
    "                           cv = 5) \n",
    "gs_cv_output = gs_cv.fit(X, y)"
   ]
  },
  {
   "cell_type": "markdown",
   "id": "69e29c15-4713-42b8-adbf-6c9eace0005e",
   "metadata": {},
   "source": [
    "##### save model and results "
   ]
  },
  {
   "cell_type": "code",
   "execution_count": 33,
   "id": "ca6f5552-a9f8-4a96-a052-1c2aaf1664b8",
   "metadata": {},
   "outputs": [
    {
     "data": {
      "text/plain": [
       "['./models/rf.joblib']"
      ]
     },
     "execution_count": 33,
     "metadata": {},
     "output_type": "execute_result"
    }
   ],
   "source": [
    "dump(gs_cv, f\"{config['MODEL_DIR']}/rf.joblib\")"
   ]
  },
  {
   "cell_type": "code",
   "execution_count": 34,
   "id": "7d78dc9c-e9fc-4b33-a619-089633d8f3c2",
   "metadata": {},
   "outputs": [],
   "source": [
    "results['model'].append(\"Random Forest\")\n",
    "results['score'].append(gs_cv_output.best_score_)\n",
    "results['best_param'].append(gs_cv_output.best_params_)"
   ]
  },
  {
   "cell_type": "markdown",
   "id": "b2bfc9a9-4215-49c0-90dd-e90f78e86da3",
   "metadata": {},
   "source": [
    "### Decision Trees"
   ]
  },
  {
   "cell_type": "code",
   "execution_count": 35,
   "id": "cf8a021f-88f2-40fd-af0a-5359dd5feaed",
   "metadata": {},
   "outputs": [],
   "source": [
    "param_grid = {\n",
    "    \"splitter\" : [\"best\", \"random\"], \n",
    "    \"max_depth\" : range(2,10), \n",
    "    \"max_features\" : range(2, len(X.columns)), \n",
    "    \"class_weight\" : [None, \"balanced\"],\n",
    "    \"ccp_alpha\": np.arange(0,1,0.05)\n",
    "}"
   ]
  },
  {
   "cell_type": "code",
   "execution_count": 36,
   "id": "1b440296-4f7b-4747-b7f0-eb865d1cca44",
   "metadata": {},
   "outputs": [],
   "source": [
    "model = DecisionTreeClassifier(\n",
    "    random_state = 0, \n",
    ")"
   ]
  },
  {
   "cell_type": "code",
   "execution_count": 37,
   "id": "b64069bb-61a7-4ac2-aff7-fd8f93cf3d02",
   "metadata": {
    "tags": []
   },
   "outputs": [],
   "source": [
    "gs_cv = RandomizedSearchCV(model, \n",
    "                           param_grid, \n",
    "                           n_iter = 200,\n",
    "                           scoring = ftwo_scorer,\n",
    "                           # scoring = [\"accuracy\", \"recall\", \"precision\", \"roc_auc\"],\n",
    "                           n_jobs = -1,\n",
    "                           random_state = 0,\n",
    "                           refit = \"recall\",\n",
    "                           cv = 5) \n",
    "gs_cv_output = gs_cv.fit(X, y)"
   ]
  },
  {
   "cell_type": "markdown",
   "id": "b1ed7e84-fda5-4954-ab73-96e9930280ed",
   "metadata": {},
   "source": [
    "##### save model and results "
   ]
  },
  {
   "cell_type": "code",
   "execution_count": 40,
   "id": "83f5d13f-32db-4f72-b893-d32d108ce3c0",
   "metadata": {},
   "outputs": [
    {
     "data": {
      "text/plain": [
       "['./models/dt.joblib']"
      ]
     },
     "execution_count": 40,
     "metadata": {},
     "output_type": "execute_result"
    }
   ],
   "source": [
    "dump(gs_cv, f\"{config['MODEL_DIR']}/dt.joblib\")"
   ]
  },
  {
   "cell_type": "code",
   "execution_count": 81,
   "id": "bf2fb1e6-4795-4fb9-97e6-ea3b30d63e9c",
   "metadata": {},
   "outputs": [],
   "source": [
    "results['model'].append(\"Decision Tree\")\n",
    "results['score'].append(gs_cv_output.best_score_)\n",
    "results['best_param'].append(gs_cv_output.best_params_)"
   ]
  },
  {
   "cell_type": "code",
   "execution_count": 41,
   "id": "9ee40bbd-9146-4a36-a562-9ddb36b24a1e",
   "metadata": {},
   "outputs": [],
   "source": [
    "with open(f\"{config['RESULTS_DIR']}/best_results.pkl\", \"wb\") as f:\n",
    "    pickle.dump(results,f)"
   ]
  },
  {
   "cell_type": "markdown",
   "id": "9e746f95-0819-4566-a725-092e7b2c4611",
   "metadata": {},
   "source": [
    "## One Hot Encoding\n",
    "- since logistic regression is a linear model requiring numeric inputs, we one hot encode the categorical features and convert them to numeric"
   ]
  },
  {
   "cell_type": "code",
   "execution_count": 42,
   "id": "7e0e0f68-4397-4c6b-b23f-ec12725b13e3",
   "metadata": {},
   "outputs": [],
   "source": [
    "normalized_df = normalize(data, cols = numerical_cols)\n",
    "onehot_df = onehot_encode(data, cols = multiclass_cols)\n",
    "preprocessed_data = pd.concat([normalized_df, onehot_df, data[binary_cols+[target_colname]]], axis = 1)\n",
    "preprocessed_data = set_float(preprocessed_data)"
   ]
  },
  {
   "cell_type": "code",
   "execution_count": 43,
   "id": "8249b111-6a9c-4123-bfed-954d27a2a806",
   "metadata": {},
   "outputs": [
    {
     "data": {
      "text/html": [
       "<div>\n",
       "<style scoped>\n",
       "    .dataframe tbody tr th:only-of-type {\n",
       "        vertical-align: middle;\n",
       "    }\n",
       "\n",
       "    .dataframe tbody tr th {\n",
       "        vertical-align: top;\n",
       "    }\n",
       "\n",
       "    .dataframe thead th {\n",
       "        text-align: right;\n",
       "    }\n",
       "</style>\n",
       "<table border=\"1\" class=\"dataframe\">\n",
       "  <thead>\n",
       "    <tr style=\"text-align: right;\">\n",
       "      <th></th>\n",
       "      <th>Age</th>\n",
       "      <th>SysBP</th>\n",
       "      <th>Pulse</th>\n",
       "      <th>AgeGroup_onehot_0</th>\n",
       "      <th>AgeGroup_onehot_1</th>\n",
       "      <th>Sex</th>\n",
       "      <th>Infection</th>\n",
       "      <th>Emergency</th>\n",
       "      <th>Survive</th>\n",
       "    </tr>\n",
       "  </thead>\n",
       "  <tbody>\n",
       "    <tr>\n",
       "      <th>0</th>\n",
       "      <td>1.472422</td>\n",
       "      <td>-1.590527</td>\n",
       "      <td>-0.109295</td>\n",
       "      <td>0.0</td>\n",
       "      <td>1.0</td>\n",
       "      <td>1.0</td>\n",
       "      <td>1.0</td>\n",
       "      <td>1.0</td>\n",
       "      <td>0.0</td>\n",
       "    </tr>\n",
       "    <tr>\n",
       "      <th>1</th>\n",
       "      <td>-1.526910</td>\n",
       "      <td>0.295714</td>\n",
       "      <td>-0.408221</td>\n",
       "      <td>0.0</td>\n",
       "      <td>0.0</td>\n",
       "      <td>1.0</td>\n",
       "      <td>1.0</td>\n",
       "      <td>1.0</td>\n",
       "      <td>1.0</td>\n",
       "    </tr>\n",
       "    <tr>\n",
       "      <th>2</th>\n",
       "      <td>0.072734</td>\n",
       "      <td>-0.616983</td>\n",
       "      <td>-0.707147</td>\n",
       "      <td>1.0</td>\n",
       "      <td>0.0</td>\n",
       "      <td>0.0</td>\n",
       "      <td>0.0</td>\n",
       "      <td>1.0</td>\n",
       "      <td>1.0</td>\n",
       "    </tr>\n",
       "    <tr>\n",
       "      <th>3</th>\n",
       "      <td>0.972534</td>\n",
       "      <td>-0.982062</td>\n",
       "      <td>-1.080805</td>\n",
       "      <td>0.0</td>\n",
       "      <td>1.0</td>\n",
       "      <td>0.0</td>\n",
       "      <td>0.0</td>\n",
       "      <td>0.0</td>\n",
       "      <td>1.0</td>\n",
       "    </tr>\n",
       "    <tr>\n",
       "      <th>4</th>\n",
       "      <td>0.922545</td>\n",
       "      <td>-0.130211</td>\n",
       "      <td>-0.333489</td>\n",
       "      <td>0.0</td>\n",
       "      <td>1.0</td>\n",
       "      <td>1.0</td>\n",
       "      <td>1.0</td>\n",
       "      <td>1.0</td>\n",
       "      <td>0.0</td>\n",
       "    </tr>\n",
       "  </tbody>\n",
       "</table>\n",
       "</div>"
      ],
      "text/plain": [
       "        Age     SysBP     Pulse  AgeGroup_onehot_0  AgeGroup_onehot_1  Sex  \\\n",
       "0  1.472422 -1.590527 -0.109295                0.0                1.0  1.0   \n",
       "1 -1.526910  0.295714 -0.408221                0.0                0.0  1.0   \n",
       "2  0.072734 -0.616983 -0.707147                1.0                0.0  0.0   \n",
       "3  0.972534 -0.982062 -1.080805                0.0                1.0  0.0   \n",
       "4  0.922545 -0.130211 -0.333489                0.0                1.0  1.0   \n",
       "\n",
       "   Infection  Emergency  Survive  \n",
       "0        1.0        1.0      0.0  \n",
       "1        1.0        1.0      1.0  \n",
       "2        0.0        1.0      1.0  \n",
       "3        0.0        0.0      1.0  \n",
       "4        1.0        1.0      0.0  "
      ]
     },
     "execution_count": 43,
     "metadata": {},
     "output_type": "execute_result"
    }
   ],
   "source": [
    "preprocessed_data.head()"
   ]
  },
  {
   "cell_type": "code",
   "execution_count": 44,
   "id": "8fddc0ee-0828-4ae6-83b8-fc6320b53652",
   "metadata": {},
   "outputs": [
    {
     "data": {
      "text/plain": [
       "Age                  float64\n",
       "SysBP                float64\n",
       "Pulse                float64\n",
       "AgeGroup_onehot_0    float64\n",
       "AgeGroup_onehot_1    float64\n",
       "Sex                  float64\n",
       "Infection            float64\n",
       "Emergency            float64\n",
       "Survive              float64\n",
       "dtype: object"
      ]
     },
     "execution_count": 44,
     "metadata": {},
     "output_type": "execute_result"
    }
   ],
   "source": [
    "preprocessed_data.dtypes"
   ]
  },
  {
   "cell_type": "code",
   "execution_count": 45,
   "id": "eee6471e-4783-4bba-9e7d-f71c93ed952c",
   "metadata": {},
   "outputs": [],
   "source": [
    "X = preprocessed_data[[c for c in preprocessed_data.columns if c!=target_colname]]\n",
    "y = preprocessed_data[target_colname].astype(int)"
   ]
  },
  {
   "cell_type": "markdown",
   "id": "59a4f830-f54c-40ae-a5ed-b0f2e3b2ba57",
   "metadata": {},
   "source": [
    "### Logistic Regression"
   ]
  },
  {
   "cell_type": "code",
   "execution_count": 46,
   "id": "43651eba-bf6a-4911-bb6d-89e5adac3ec2",
   "metadata": {},
   "outputs": [],
   "source": [
    "param_grid = {\n",
    "    \"penalty\" : [\"l1\", \"l2\"], \n",
    "    \"C\" : np.arange(0,2.1,0.2), \n",
    "    \"class_weight\" : [None, \"balanced\"],\n",
    "    \"max_iter\": range(30,150)\n",
    "}  "
   ]
  },
  {
   "cell_type": "code",
   "execution_count": 47,
   "id": "5f55de48-ad6d-4735-8edb-b861c83150ba",
   "metadata": {},
   "outputs": [],
   "source": [
    "model = LogisticRegression(\n",
    "    random_state = 0, \n",
    "    solver = \"liblinear\"\n",
    ")"
   ]
  },
  {
   "cell_type": "code",
   "execution_count": 48,
   "id": "115f2752-b298-4857-8995-1c41d2b5af18",
   "metadata": {
    "collapsed": true,
    "jupyter": {
     "outputs_hidden": true
    },
    "tags": []
   },
   "outputs": [
    {
     "name": "stderr",
     "output_type": "stream",
     "text": [
      "C:\\Users\\tanch\\anaconda3\\envs\\dp\\lib\\site-packages\\sklearn\\model_selection\\_validation.py:378: FitFailedWarning: \n",
      "95 fits failed out of a total of 1000.\n",
      "The score on these train-test partitions for these parameters will be set to nan.\n",
      "If these failures are not expected, you can try to debug them by setting error_score='raise'.\n",
      "\n",
      "Below are more details about the failures:\n",
      "--------------------------------------------------------------------------------\n",
      "95 fits failed with the following error:\n",
      "Traceback (most recent call last):\n",
      "  File \"C:\\Users\\tanch\\anaconda3\\envs\\dp\\lib\\site-packages\\sklearn\\model_selection\\_validation.py\", line 686, in _fit_and_score\n",
      "    estimator.fit(X_train, y_train, **fit_params)\n",
      "  File \"C:\\Users\\tanch\\anaconda3\\envs\\dp\\lib\\site-packages\\sklearn\\linear_model\\_logistic.py\", line 1158, in fit\n",
      "    self.coef_, self.intercept_, self.n_iter_ = _fit_liblinear(\n",
      "  File \"C:\\Users\\tanch\\anaconda3\\envs\\dp\\lib\\site-packages\\sklearn\\svm\\_base.py\", line 1205, in _fit_liblinear\n",
      "    raw_coef_, n_iter_ = liblinear.train_wrap(\n",
      "  File \"sklearn\\svm\\_liblinear.pyx\", line 52, in sklearn.svm._liblinear.train_wrap\n",
      "ValueError: b'C <= 0'\n",
      "\n",
      "  warnings.warn(some_fits_failed_message, FitFailedWarning)\n",
      "C:\\Users\\tanch\\anaconda3\\envs\\dp\\lib\\site-packages\\sklearn\\model_selection\\_search.py:953: UserWarning: One or more of the test scores are non-finite: [0.74007364        nan 0.72451228 0.72411155 0.92267741        nan\n",
      " 0.92170143 0.92857143        nan 0.92857143        nan 0.72968808\n",
      " 0.74007364 0.70791242 0.92170143 0.92170143 0.9174187  0.93024453\n",
      " 0.74007364 0.74007364 0.72411155 0.72451228 0.9251796  0.72961372\n",
      " 0.7295286  0.72968808 0.92187902 0.92170143 0.72961372 0.72968808\n",
      " 0.7139446         nan 0.72968808 0.7160904         nan 0.73988501\n",
      " 0.73988501 0.73988501 0.72968808 0.9174187  0.72451228 0.92170143\n",
      " 0.92170143        nan 0.72961372 0.92170143 0.7139446  0.70791242\n",
      "        nan 0.7295286  0.72411155 0.92170143 0.9251796  0.71905159\n",
      " 0.74007364 0.93024453 0.72968808 0.93024453 0.9174187  0.92170143\n",
      " 0.73457146 0.72961372 0.92435798 0.92170143 0.9174187  0.72411155\n",
      " 0.92170143 0.73988501 0.92102712 0.9251796  0.9174187         nan\n",
      " 0.7160904  0.72411155 0.92187902 0.7295286  0.92170143        nan\n",
      " 0.73988501 0.70791242 0.9174187  0.73988501 0.7295286  0.92187902\n",
      " 0.92170143 0.72411155 0.70791242 0.92170143 0.92170143 0.72968808\n",
      " 0.74007364 0.9174187  0.9251796  0.92170143 0.72968808 0.65483721\n",
      " 0.92170143 0.73457146 0.7295286  0.93024453 0.72968808 0.9251796\n",
      " 0.92170143 0.93024453        nan 0.70791242 0.9174187  0.73988501\n",
      " 0.92267741 0.92170143        nan 0.72451228 0.7160904  0.74007364\n",
      " 0.72968808 0.92857143        nan 0.7295286  0.92857143        nan\n",
      " 0.92435798 0.92170143 0.73988501 0.7295286  0.92005115 0.92170143\n",
      " 0.92435798 0.74007364 0.92170143 0.9174187  0.7160904  0.92170143\n",
      " 0.92170143 0.92170143 0.74007364 0.9174187  0.65483721 0.72968808\n",
      " 0.92170143 0.72968808 0.92005115 0.7139446         nan 0.72451228\n",
      " 0.92170143 0.9174187  0.73988501 0.92857143 0.92267741 0.92170143\n",
      " 0.73988501        nan 0.7160904  0.74007364 0.72968808 0.9251796\n",
      " 0.92170143 0.73988501        nan 0.92170143 0.74007364 0.7160904\n",
      " 0.72968808 0.72451228 0.72961372 0.9174187  0.92102712        nan\n",
      " 0.9174187  0.9174187  0.72411155 0.92435798 0.7295286  0.74007364\n",
      " 0.7295286  0.70791242 0.73988501 0.72411155 0.72411155 0.73988501\n",
      " 0.74007364 0.74007364 0.7139446  0.74007364 0.92170143 0.71905159\n",
      " 0.92267741 0.7139446  0.9174187  0.93024453 0.7295286  0.73988501\n",
      " 0.72411155 0.92170143        nan 0.92170143 0.9251796  0.7160904\n",
      " 0.73988501 0.72961372]\n",
      "  warnings.warn(\n"
     ]
    }
   ],
   "source": [
    "gs_cv = RandomizedSearchCV(model, \n",
    "                           param_grid, \n",
    "                           n_iter = 200,\n",
    "                           scoring = ftwo_scorer,\n",
    "                           # scoring = [\"accuracy\", \"recall\", \"precision\", \"roc_auc\"],\n",
    "                           n_jobs = -1,\n",
    "                           random_state = 0,\n",
    "                           cv = 5) \n",
    "gs_cv_output = gs_cv.fit(X, y)"
   ]
  },
  {
   "cell_type": "markdown",
   "id": "dc788874-6459-4d9e-ac91-a619ff9ae101",
   "metadata": {},
   "source": [
    "##### save model and results "
   ]
  },
  {
   "cell_type": "code",
   "execution_count": 49,
   "id": "2d33adeb-64ed-4e81-b522-92e4a59edcea",
   "metadata": {},
   "outputs": [
    {
     "data": {
      "text/plain": [
       "['./models/lr.joblib']"
      ]
     },
     "execution_count": 49,
     "metadata": {},
     "output_type": "execute_result"
    }
   ],
   "source": [
    "dump(gs_cv, f\"{config['MODEL_DIR']}/lr.joblib\")"
   ]
  },
  {
   "cell_type": "code",
   "execution_count": 50,
   "id": "b10821fb-a1e8-4984-9c78-8195b76fdb91",
   "metadata": {},
   "outputs": [],
   "source": [
    "results['model'].append(\"Logistic Regression\")\n",
    "results['score'].append(gs_cv_output.best_score_)\n",
    "results['best_param'].append(gs_cv_output.best_params_)"
   ]
  },
  {
   "cell_type": "markdown",
   "id": "f3212990-8827-4199-86a6-37bf55efa490",
   "metadata": {},
   "source": [
    "# Performance Comparison\n",
    "- usually it'll be good to plot, but it's not relevant here since the scores are too close\n",
    "- however, logistic regression does perform the best. The data isn't very big, so a small model like logistic regression is sufficient"
   ]
  },
  {
   "cell_type": "code",
   "execution_count": 74,
   "id": "37153153-df3f-4df4-997c-b8fb5afcfa04",
   "metadata": {},
   "outputs": [
    {
     "data": {
      "text/plain": [
       "{'model': ['Random Forest', 'Decision Tree', 'Logistic Regression'],\n",
       " 'best_param': [{'n_estimators': 74,\n",
       "   'max_features': 5,\n",
       "   'max_depth': 4,\n",
       "   'class_weight': None,\n",
       "   'ccp_alpha': 0.25},\n",
       "  {'splitter': 'best',\n",
       "   'max_features': 5,\n",
       "   'max_depth': 7,\n",
       "   'class_weight': None,\n",
       "   'ccp_alpha': 0.15000000000000002},\n",
       "  {'penalty': 'l1', 'max_iter': 67, 'class_weight': None, 'C': 0.4}],\n",
       " 'score': [0.9285714285714286, 0.9285714285714286, 0.9302445302445304]}"
      ]
     },
     "execution_count": 74,
     "metadata": {},
     "output_type": "execute_result"
    }
   ],
   "source": [
    "results"
   ]
  },
  {
   "cell_type": "markdown",
   "id": "c22d96a5-a9d1-407d-b024-30e21857bece",
   "metadata": {},
   "source": [
    "# Inspect Feature Importances\n",
    "- may give us an idea of indicators of survivability\n",
    "- it appears that only Age, SysBP and Emergency are predictive of survival at ICU"
   ]
  },
  {
   "cell_type": "code",
   "execution_count": 53,
   "id": "7ada6309-4c43-4ee5-b96b-2de9924240ee",
   "metadata": {},
   "outputs": [],
   "source": [
    "from sklearn.inspection import permutation_importance"
   ]
  },
  {
   "cell_type": "code",
   "execution_count": 64,
   "id": "f49d0db6-784d-4f5b-9347-1f92caef07d0",
   "metadata": {},
   "outputs": [],
   "source": [
    "importances = permutation_importance(gs_cv, X, y , scoring = ftwo_scorer)"
   ]
  },
  {
   "cell_type": "code",
   "execution_count": 69,
   "id": "2bfe96e5-64aa-4f84-a76b-444d4dc08709",
   "metadata": {},
   "outputs": [
    {
     "data": {
      "image/png": "[encoded data removed]",
      "text/plain": [
       "<Figure size 640x480 with 1 Axes>"
      ]
     },
     "metadata": {},
     "output_type": "display_data"
    }
   ],
   "source": [
    "p = sb.barplot(x = importances['importances_mean'], y = X.columns, palette = \"Accent\")\n",
    "_ = p.set(title = \"Feature Importance - Survival Predictability\", xticklabels = [])"
   ]
  }
 ],
 "metadata": {
  "kernelspec": {
   "display_name": "Python 3 (ipykernel)",
   "language": "python",
   "name": "python3"
  },
  "language_info": {
   "codemirror_mode": {
    "name": "ipython",
    "version": 3
   },
   "file_extension": ".py",
   "mimetype": "text/x-python",
   "name": "python",
   "nbconvert_exporter": "python",
   "pygments_lexer": "ipython3",
   "version": "3.9.12"
  }
 },
 "nbformat": 4,
 "nbformat_minor": 5
}
