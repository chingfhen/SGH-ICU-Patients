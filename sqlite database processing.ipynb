{
 "cells": [
  {
   "cell_type": "markdown",
   "id": "0032b30d-c030-4bc1-9b46-1ec959ecd33d",
   "metadata": {},
   "source": [
    "# ABOUT:\n",
    "- this notebook reads and writes the dataset into sqlite3 database"
   ]
  },
  {
   "cell_type": "code",
   "execution_count": 1,
   "id": "b5242501-63dc-40d6-bde5-6d6e88832458",
   "metadata": {},
   "outputs": [],
   "source": [
    "import sqlite3\n",
    "import pandas as pd\n",
    "import os\n",
    "import yaml\n",
    "import re"
   ]
  },
  {
   "cell_type": "code",
   "execution_count": 2,
   "id": "74826fcd-fc62-4be1-b7a0-527600f3b2ed",
   "metadata": {},
   "outputs": [],
   "source": [
    "with open(\"config.yml\", \"r\") as f:\n",
    "    config = yaml.safe_load(f)"
   ]
  },
  {
   "cell_type": "markdown",
   "id": "b99858b8-c918-4b5c-8702-2ee5f85d4196",
   "metadata": {},
   "source": [
    "#### read data"
   ]
  },
  {
   "cell_type": "code",
   "execution_count": 3,
   "id": "47f7dd92-6fdf-42eb-8d23-c5033ba64e02",
   "metadata": {},
   "outputs": [],
   "source": [
    "# If fail, please set the path to dataset at config.yml\n",
    "data = pd.read_csv(config['TARGET_DATASET_PATH'])\n",
    "desired_columns = data.columns.tolist()[1:]\n",
    "list_of_records = data[desired_columns].to_records(index = False).tolist()"
   ]
  },
  {
   "cell_type": "code",
   "execution_count": 4,
   "id": "447670a5-0979-46ae-8bf6-ac02af936d84",
   "metadata": {},
   "outputs": [
    {
     "data": {
      "text/plain": [
       "[(4, 0, 87, 3, 1, 1, 80, 96, 1),\n",
       " (8, 1, 27, 1, 1, 1, 142, 88, 1),\n",
       " (12, 1, 59, 2, 0, 0, 112, 80, 1),\n",
       " (14, 1, 77, 3, 0, 0, 100, 70, 0),\n",
       " (27, 0, 76, 3, 1, 1, 128, 90, 1),\n",
       " (28, 1, 54, 2, 0, 1, 142, 103, 1),\n",
       " (32, 1, 87, 3, 1, 1, 110, 154, 1),\n",
       " (38, 1, 69, 2, 0, 1, 110, 132, 1),\n",
       " (40, 1, 63, 2, 0, 0, 104, 66, 0),\n",
       " (41, 1, 30, 1, 1, 0, 144, 110, 1)]"
      ]
     },
     "execution_count": 4,
     "metadata": {},
     "output_type": "execute_result"
    }
   ],
   "source": [
    "list_of_records[:10]"
   ]
  },
  {
   "cell_type": "markdown",
   "id": "d2bb9d28-d82e-43f6-9fe4-c41cecfc399e",
   "metadata": {},
   "source": [
    "#### create database"
   ]
  },
  {
   "cell_type": "code",
   "execution_count": 5,
   "id": "9bc777ef-4dac-424a-9eac-d3105a3929e7",
   "metadata": {},
   "outputs": [],
   "source": [
    "# If fail, please set the directory to database in config.yml\n",
    "con = sqlite3.connect(f\"{config['SQLITE_DATABASE_DIR']}/ICU.db\")\n",
    "cur = con.cursor()"
   ]
  },
  {
   "cell_type": "markdown",
   "id": "9fd56da5-616d-45b9-8fa1-72072e6b7aa2",
   "metadata": {},
   "source": [
    "#### create table"
   ]
  },
  {
   "cell_type": "code",
   "execution_count": 8,
   "id": "2ccc53fe-f072-4c6c-b46f-013c5ce33807",
   "metadata": {},
   "outputs": [
    {
     "data": {
      "text/plain": [
       "<sqlite3.Cursor at 0x260063b99d0>"
      ]
     },
     "execution_count": 8,
     "metadata": {},
     "output_type": "execute_result"
    }
   ],
   "source": [
    "desired_columns = data.columns.tolist()[1:] \n",
    "cur.execute(\"\"\"CREATE TABLE IF NOT EXISTS ICU(\n",
    "    ID INTEGER NOT NULL PRIMARY KEY, \n",
    "    Survive INTEGER, \n",
    "    Age INTEGER, \n",
    "    AgeGroup INTEGER, \n",
    "    Sex INTEGER, \n",
    "    Infection INTEGER, \n",
    "    SysBP INTEGER, \n",
    "    Pulse INTEGER, \n",
    "    Emergency INTEGER)\"\"\")  "
   ]
  },
  {
   "cell_type": "markdown",
   "id": "19fe3fa8-8d20-454c-9ac6-178c29a5b510",
   "metadata": {
    "tags": []
   },
   "source": [
    "### insert all records"
   ]
  },
  {
   "cell_type": "code",
   "execution_count": 9,
   "id": "a1ba9882-efb2-47fc-93ba-081ba4d2270e",
   "metadata": {},
   "outputs": [
    {
     "data": {
      "text/plain": [
       "<sqlite3.Cursor at 0x260063b99d0>"
      ]
     },
     "execution_count": 9,
     "metadata": {},
     "output_type": "execute_result"
    }
   ],
   "source": [
    "cur.executemany('INSERT INTO ICU VALUES(?,?,?,?,?,?,?,?,?)', list_of_records)"
   ]
  },
  {
   "cell_type": "code",
   "execution_count": 10,
   "id": "d0903558-2892-4796-b905-f0da6cc8e7fd",
   "metadata": {},
   "outputs": [
    {
     "data": {
      "text/plain": [
       "(4, 0, 87, 3, 1, 1, 80, 96, 1)"
      ]
     },
     "execution_count": 10,
     "metadata": {},
     "output_type": "execute_result"
    }
   ],
   "source": [
    "# show one record\n",
    "cur.execute(\"\"\"select * from ICU\"\"\")\n",
    "cur.fetchone()"
   ]
  },
  {
   "cell_type": "code",
   "execution_count": 11,
   "id": "27418044-9869-4a05-90e7-4348b8667124",
   "metadata": {},
   "outputs": [],
   "source": [
    "con.commit()\n",
    "con.close()"
   ]
  },
  {
   "cell_type": "code",
   "execution_count": 37,
   "id": "acaf14d5-9722-4e4e-bc2f-5338f302c429",
   "metadata": {},
   "outputs": [
    {
     "data": {
      "text/plain": [
       "<sqlite3.Cursor at 0x218b1c94f80>"
      ]
     },
     "execution_count": 37,
     "metadata": {},
     "output_type": "execute_result"
    }
   ],
   "source": [
    "# # Delete ALl Records\n",
    "# cur.execute(f\"DELETE FROM ICU\")"
   ]
  },
  {
   "cell_type": "code",
   "execution_count": 6,
   "id": "e403e3bd-47f2-4575-9e1c-9c28779b9b93",
   "metadata": {},
   "outputs": [
    {
     "data": {
      "text/plain": [
       "<sqlite3.Cursor at 0x260063b99d0>"
      ]
     },
     "execution_count": 6,
     "metadata": {},
     "output_type": "execute_result"
    }
   ],
   "source": [
    "# DROP table\n",
    "# cur.execute(f\"DROP TABLE ICU\")"
   ]
  }
 ],
 "metadata": {
  "kernelspec": {
   "display_name": "Python 3 (ipykernel)",
   "language": "python",
   "name": "python3"
  },
  "language_info": {
   "codemirror_mode": {
    "name": "ipython",
    "version": 3
   },
   "file_extension": ".py",
   "mimetype": "text/x-python",
   "name": "python",
   "nbconvert_exporter": "python",
   "pygments_lexer": "ipython3",
   "version": "3.9.12"
  }
 },
 "nbformat": 4,
 "nbformat_minor": 5
}
